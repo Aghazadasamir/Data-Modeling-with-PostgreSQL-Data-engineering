{
 "cells": [
  {
   "cell_type": "code",
   "execution_count": 2,
   "metadata": {
    "editable": true
   },
   "outputs": [],
   "source": [
    "#DROP TABLE\n",
    "\n",
    "songplay_table_drop=\"DROP TABLE IF EXISTS songplays;\"\n",
    "user_table_drop=\"DROP TABLE IF EXISTS users;\"\n",
    "song_table_drop=\"DROP TABLE IF EXISTS songs;\"\n",
    "artist_table_drop=\"DROP TABLE IF EXISTS artists;\"\n",
    "time_table_drop=\"DROP TABLE IF EXISTS time;\""
   ]
  },
  {
   "cell_type": "code",
   "execution_count": 3,
   "metadata": {
    "editable": true
   },
   "outputs": [],
   "source": [
    "# CREATE TABLES\n",
    "\n",
    "songplay_table_create = (\"\"\"\n",
    "    CREATE TABLE IF NOT EXISTS songplays (\n",
    "        songplay_id SERIAL PRIMARY KEY,\n",
    "        start_time BIGINT,\n",
    "        user_id INT,\n",
    "        level VARCHAR,\n",
    "        song_id VARCHAR,\n",
    "        artist_id VARCHAR,\n",
    "        session_id INT,\n",
    "        location VARCHAR,\n",
    "        user_agent VARCHAR\n",
    "    );\n",
    "\"\"\")\n",
    "\n",
    "user_table_create = (\"\"\"\n",
    "    CREATE TABLE IF NOT EXISTS users (\n",
    "        user_id INT PRIMARY KEY,\n",
    "        first_name VARCHAR,\n",
    "        last_name VARCHAR,\n",
    "        gender VARCHAR,\n",
    "        level VARCHAR\n",
    "    );\n",
    "\"\"\")\n",
    "\n",
    "song_table_create = (\"\"\"\n",
    "    CREATE TABLE IF NOT EXISTS songs (\n",
    "        song_id VARCHAR NOT NULL PRIMARY KEY,\n",
    "        title VARCHAR(255) NOT NULL,\n",
    "        artist_id VARCHAR(255) NOT NULL,\n",
    "        year INT,\n",
    "        duration FLOAT);\n",
    "\"\"\")\n",
    "\n",
    "artist_table_create = (\"\"\"\n",
    "    CREATE TABLE IF NOT EXISTS artists (\n",
    "        artist_id VARCHAR(255) NOT NULL PRIMARY KEY,\n",
    "        name VARCHAR(255) NOT NULL,\n",
    "        location VARCHAR,\n",
    "        latitude FLOAT,\n",
    "        longitude FLOAT);\n",
    "\"\"\")\n",
    "\n",
    "time_table_create = (\"\"\"\n",
    "    CREATE TABLE IF NOT EXISTS time (\n",
    "        start_time BIGINT PRIMARY KEY,\n",
    "        hour INT,\n",
    "        day INT,\n",
    "        week INT,\n",
    "        month INT,\n",
    "        year INT,\n",
    "        weekday INT\n",
    "    );\n",
    "\"\"\")"
   ]
  },
  {
   "cell_type": "code",
   "execution_count": 4,
   "metadata": {
    "editable": true
   },
   "outputs": [],
   "source": [
    "# INSERT RECORDS\n",
    "\n",
    "songplay_table_insert = (\"\"\"\n",
    "    INSERT INTO songplays (songplay_id, start_time, user_id, level, song_id,\n",
    "                           artist_id, session_id, location, user_agent)\n",
    "    VALUES (DEFAULT, %s, %s, %s, %s, %s, %s, %s, %s);\n",
    "\"\"\")\n",
    "\n",
    "user_table_insert = (\"\"\"\n",
    "    INSERT INTO users (user_id, first_name, last_name, gender, level)\n",
    "    VALUES (%s, %s, %s, %s, %s)\n",
    "    ON CONFLICT DO NOTHING;\n",
    "\"\"\")\n",
    "\n",
    "song_table_insert = (\"\"\"\n",
    "    INSERT INTO songs (song_id, title, artist_id, year, duration)\n",
    "    VALUES (%s, %s, %s, %s, %s)\n",
    "    ON CONFLICT DO NOTHING;\n",
    "\"\"\")\n",
    "\n",
    "artist_table_insert = (\"\"\"\n",
    "    INSERT INTO artists (artist_id, name, location, latitude, longitude)\n",
    "    VALUES (%s, %s, %s, %s, %s)\n",
    "    ON CONFLICT DO NOTHING;\n",
    "\"\"\")\n",
    "\n",
    "time_table_insert = (\"\"\"\n",
    "    INSERT INTO time (start_time, hour, day, week, month, year, weekday)\n",
    "    VALUES (%s, %s, %s, %s, %s, %s, %s)\n",
    "    ON CONFLICT DO NOTHING;\n",
    "\"\"\")"
   ]
  },
  {
   "cell_type": "code",
   "execution_count": 5,
   "metadata": {
    "editable": true
   },
   "outputs": [],
   "source": [
    "# FIND SONGS\n",
    "\n",
    "song_select = (\"\"\"\n",
    "    SELECT s.song_id, a.artist_id\n",
    "    FROM songs s\n",
    "    JOIN artists a ON s.artist_id = a.artist_id\n",
    "    WHERE s.title = %s AND a.name = %s AND s.duration = %s;\n",
    "\"\"\")\n"
   ]
  },
  {
   "cell_type": "code",
   "execution_count": 6,
   "metadata": {
    "editable": true
   },
   "outputs": [],
   "source": [
    "# QUERY LISTS\n",
    "\n",
    "create_table_queries = [songplay_table_create, user_table_create,\n",
    "                        song_table_create, artist_table_create,\n",
    "                        time_table_create]\n",
    "\n",
    "drop_table_queries = [songplay_table_drop, user_table_drop,\n",
    "                      song_table_drop, artist_table_drop, time_table_drop]\n"
   ]
  }
 ],
 "metadata": {
  "kernelspec": {
   "display_name": "Python 3",
   "language": "python",
   "name": "python3"
  },
  "language_info": {
   "codemirror_mode": {
    "name": "ipython",
    "version": 3
   },
   "file_extension": ".py",
   "mimetype": "text/x-python",
   "name": "python",
   "nbconvert_exporter": "python",
   "pygments_lexer": "ipython3",
   "version": "3.6.3"
  }
 },
 "nbformat": 4,
 "nbformat_minor": 4
}
